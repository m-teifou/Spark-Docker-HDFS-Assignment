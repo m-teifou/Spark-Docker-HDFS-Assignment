{
 "cells": [
  {
   "cell_type": "markdown",
   "metadata": {},
   "source": [
    "## AirB&B Exploratory Data Analysis"
   ]
  },
  {
   "cell_type": "code",
   "execution_count": 1,
   "metadata": {},
   "outputs": [],
   "source": [
    "from pyspark import SparkContext, SparkConf\n",
    "import operator\n",
    "\n",
    "conf = SparkConf().setAppName('AirBnB_EDA')\n",
    "conf = conf.setMaster('spark://master:7077')\n",
    "#sc = SparkContext(conf=conf)\n",
    "spark = SparkSession(sc)"
   ]
  },
  {
   "cell_type": "code",
   "execution_count": 2,
   "metadata": {},
   "outputs": [],
   "source": [
    "# read csv file as rdd\n",
    "airbnb_txt=sc.textFile(\"MontrealAirBnB.csv\", minPartitions=2)\n",
    "#remove header from rdd\n",
    "tagsheader = airbnb_txt.first() \n",
    "header = sc.parallelize([tagsheader])\n",
    "airbnb_rdd = airbnb_txt.subtract(header)"
   ]
  },
  {
   "cell_type": "code",
   "execution_count": 3,
   "metadata": {},
   "outputs": [
    {
     "data": {
      "text/plain": [
       "['Le Sud-Ouest,Entire home/apt,100,1,291',\n",
       " 'Mercier-Hochelaga-Maisonneuve,Entire home/apt,37,30,255',\n",
       " 'Côte-des-Neiges-Notre-Dame-de-Grâce,Private room,65,3,309',\n",
       " 'Le Plateau-Mont-Royal,Entire home/apt,130,4,364',\n",
       " 'Rosemont-La Petite-Patrie,Private room,80,3,75',\n",
       " 'Ville-Marie,Entire home/apt,85,1,204',\n",
       " 'Ville-Marie,Entire home/apt,125,1,44',\n",
       " 'Mercier-Hochelaga-Maisonneuve,Entire home/apt,27,30,255',\n",
       " 'Mercier-Hochelaga-Maisonneuve,Entire home/apt,27,30,255',\n",
       " 'Le Plateau-Mont-Royal,Entire home/apt,100,3,265',\n",
       " 'Le Plateau-Mont-Royal,Entire home/apt,100,3,265',\n",
       " 'Côte-des-Neiges-Notre-Dame-de-Grâce,Entire home/apt,155,16,0',\n",
       " 'Le Plateau-Mont-Royal,Private room,35,2,276',\n",
       " 'Ville-Marie,Shared room,21,1,56',\n",
       " 'Le Plateau-Mont-Royal,Entire home/apt,80,360,365',\n",
       " 'Le Plateau-Mont-Royal,Private room,48,30,277',\n",
       " 'Le Plateau-Mont-Royal,Entire home/apt,120,3,325',\n",
       " 'Le Plateau-Mont-Royal,Private room,80,5,239',\n",
       " 'Le Sud-Ouest,Entire home/apt,65,35,249',\n",
       " 'Outremont,Entire home/apt,116,7,358']"
      ]
     },
     "execution_count": 3,
     "metadata": {},
     "output_type": "execute_result"
    }
   ],
   "source": [
    "airbnb_rdd.take(20)"
   ]
  },
  {
   "cell_type": "code",
   "execution_count": 13,
   "metadata": {},
   "outputs": [
    {
     "data": {
      "text/plain": [
       "[['Le Sud-Ouest', 'Entire home/apt', '100', '1', '291'],\n",
       " ['Mercier-Hochelaga-Maisonneuve', 'Entire home/apt', '37', '30', '255'],\n",
       " ['Côte-des-Neiges-Notre-Dame-de-Grâce', 'Private room', '65', '3', '309'],\n",
       " ['Le Plateau-Mont-Royal', 'Entire home/apt', '130', '4', '364'],\n",
       " ['Rosemont-La Petite-Patrie', 'Private room', '80', '3', '75'],\n",
       " ['Ville-Marie', 'Entire home/apt', '85', '1', '204'],\n",
       " ['Ville-Marie', 'Entire home/apt', '125', '1', '44'],\n",
       " ['Mercier-Hochelaga-Maisonneuve', 'Entire home/apt', '27', '30', '255'],\n",
       " ['Mercier-Hochelaga-Maisonneuve', 'Entire home/apt', '27', '30', '255'],\n",
       " ['Le Plateau-Mont-Royal', 'Entire home/apt', '100', '3', '265'],\n",
       " ['Le Plateau-Mont-Royal', 'Entire home/apt', '100', '3', '265'],\n",
       " ['Côte-des-Neiges-Notre-Dame-de-Grâce', 'Entire home/apt', '155', '16', '0'],\n",
       " ['Le Plateau-Mont-Royal', 'Private room', '35', '2', '276'],\n",
       " ['Ville-Marie', 'Shared room', '21', '1', '56'],\n",
       " ['Le Plateau-Mont-Royal', 'Entire home/apt', '80', '360', '365'],\n",
       " ['Le Plateau-Mont-Royal', 'Private room', '48', '30', '277'],\n",
       " ['Le Plateau-Mont-Royal', 'Entire home/apt', '120', '3', '325'],\n",
       " ['Le Plateau-Mont-Royal', 'Private room', '80', '5', '239'],\n",
       " ['Le Sud-Ouest', 'Entire home/apt', '65', '35', '249'],\n",
       " ['Outremont', 'Entire home/apt', '116', '7', '358']]"
      ]
     },
     "execution_count": 13,
     "metadata": {},
     "output_type": "execute_result"
    }
   ],
   "source": [
    "airbnb_row = airbnb_rdd.map(lambda x: x.split(','))\n",
    "airbnb_row.take(20)"
   ]
  },
  {
   "cell_type": "markdown",
   "metadata": {},
   "source": [
    "# Preliminary exploration\n",
    "We are aiming to get:\n",
    "\n",
    "    total number of offers,\n",
    "    average price of all offers"
   ]
  },
  {
   "cell_type": "code",
   "execution_count": 5,
   "metadata": {},
   "outputs": [],
   "source": [
    "neighbourhood_lst = airbnb_row.map(lambda x: (x[0], 1))"
   ]
  },
  {
   "cell_type": "code",
   "execution_count": 14,
   "metadata": {},
   "outputs": [
    {
     "data": {
      "text/plain": [
       "[('Le Sud-Ouest', 1),\n",
       " ('Mercier-Hochelaga-Maisonneuve', 1),\n",
       " ('Côte-des-Neiges-Notre-Dame-de-Grâce', 1),\n",
       " ('Le Plateau-Mont-Royal', 1),\n",
       " ('Rosemont-La Petite-Patrie', 1),\n",
       " ('Ville-Marie', 1),\n",
       " ('Ville-Marie', 1),\n",
       " ('Mercier-Hochelaga-Maisonneuve', 1),\n",
       " ('Mercier-Hochelaga-Maisonneuve', 1),\n",
       " ('Le Plateau-Mont-Royal', 1),\n",
       " ('Le Plateau-Mont-Royal', 1),\n",
       " ('Côte-des-Neiges-Notre-Dame-de-Grâce', 1),\n",
       " ('Le Plateau-Mont-Royal', 1),\n",
       " ('Ville-Marie', 1),\n",
       " ('Le Plateau-Mont-Royal', 1),\n",
       " ('Le Plateau-Mont-Royal', 1),\n",
       " ('Le Plateau-Mont-Royal', 1),\n",
       " ('Le Plateau-Mont-Royal', 1),\n",
       " ('Le Sud-Ouest', 1),\n",
       " ('Outremont', 1)]"
      ]
     },
     "execution_count": 14,
     "metadata": {},
     "output_type": "execute_result"
    }
   ],
   "source": [
    "neighbourhood_lst.take(20)"
   ]
  },
  {
   "cell_type": "code",
   "execution_count": 7,
   "metadata": {},
   "outputs": [],
   "source": [
    "# calculate count by neighbourhood\n",
    "n_count = neighbourhood_lst.reduceByKey(lambda x,y: x+y)"
   ]
  },
  {
   "cell_type": "code",
   "execution_count": 15,
   "metadata": {},
   "outputs": [
    {
     "data": {
      "text/plain": [
       "[('Côte-des-Neiges-Notre-Dame-de-Grâce', 1284),\n",
       " ('Rosemont-La Petite-Patrie', 1961),\n",
       " ('Ville-Marie', 5208),\n",
       " ('Lachine', 111),\n",
       " ('Dorval', 63),\n",
       " ('Verdun', 473),\n",
       " (\"L'Île-Bizard-Sainte-Geneviève\", 20),\n",
       " ('Le Sud-Ouest', 1127),\n",
       " ('Mercier-Hochelaga-Maisonneuve', 925),\n",
       " ('Outremont', 271),\n",
       " ('Ahuntsic-Cartierville', 310),\n",
       " ('Westmount', 106),\n",
       " ('Hampstead', 23),\n",
       " ('Pierrefonds-Roxboro', 53),\n",
       " ('Montréal-Nord', 37),\n",
       " ('Dollard-des-Ormeaux', 43),\n",
       " ('Saint-Léonard', 55),\n",
       " (\"Baie-d'Urfé\", 7),\n",
       " ('Sainte-Anne-de-Bellevue', 4),\n",
       " ('Beaconsfield', 15)]"
      ]
     },
     "execution_count": 15,
     "metadata": {},
     "output_type": "execute_result"
    }
   ],
   "source": [
    "n_count.take(20)"
   ]
  },
  {
   "cell_type": "code",
   "execution_count": 16,
   "metadata": {},
   "outputs": [
    {
     "data": {
      "text/plain": [
       "[('Côte-des-Neiges-Notre-Dame-de-Grâce', 113884),\n",
       " ('Rosemont-La Petite-Patrie', 173766),\n",
       " ('Ville-Marie', 701284),\n",
       " ('Lachine', 10500),\n",
       " ('Dorval', 7935),\n",
       " ('Verdun', 37993),\n",
       " (\"L'Île-Bizard-Sainte-Geneviève\", 3383),\n",
       " ('Le Sud-Ouest', 122099),\n",
       " ('Mercier-Hochelaga-Maisonneuve', 70272),\n",
       " ('Outremont', 29286),\n",
       " ('Ahuntsic-Cartierville', 24448),\n",
       " ('Westmount', 13592),\n",
       " ('Hampstead', 4716),\n",
       " ('Pierrefonds-Roxboro', 5671),\n",
       " ('Montréal-Nord', 2311),\n",
       " ('Dollard-des-Ormeaux', 4252),\n",
       " ('Saint-Léonard', 4923),\n",
       " (\"Baie-d'Urfé\", 2684),\n",
       " ('Sainte-Anne-de-Bellevue', 292),\n",
       " ('Beaconsfield', 887)]"
      ]
     },
     "execution_count": 16,
     "metadata": {},
     "output_type": "execute_result"
    }
   ],
   "source": [
    "# calculate sum(price) per neighbourhood\n",
    "price_lst = airbnb_row.map(lambda x: (x[0], int(x[2])))\n",
    "price_lst_sum = price_lst.reduceByKey(operator.add)\n",
    "price_lst_sum.take(20)"
   ]
  },
  {
   "cell_type": "code",
   "execution_count": 10,
   "metadata": {},
   "outputs": [],
   "source": [
    "#inner join total per neighbourhood and average by neighbourhood lists\n",
    "count_price_lst = n_count.join(price_lst_sum)"
   ]
  },
  {
   "cell_type": "code",
   "execution_count": 17,
   "metadata": {},
   "outputs": [
    {
     "data": {
      "text/plain": [
       "[('Côte-des-Neiges-Notre-Dame-de-Grâce', (1284, 113884)),\n",
       " ('Rosemont-La Petite-Patrie', (1961, 173766)),\n",
       " ('Ville-Marie', (5208, 701284)),\n",
       " ('Lachine', (111, 10500)),\n",
       " ('Dorval', (63, 7935)),\n",
       " ('Verdun', (473, 37993)),\n",
       " (\"L'Île-Bizard-Sainte-Geneviève\", (20, 3383)),\n",
       " ('Le Sud-Ouest', (1127, 122099)),\n",
       " ('Mercier-Hochelaga-Maisonneuve', (925, 70272)),\n",
       " ('Outremont', (271, 29286)),\n",
       " ('Ahuntsic-Cartierville', (310, 24448)),\n",
       " ('Westmount', (106, 13592)),\n",
       " ('Hampstead', (23, 4716)),\n",
       " ('Pierrefonds-Roxboro', (53, 5671)),\n",
       " ('Montréal-Nord', (37, 2311)),\n",
       " ('Dollard-des-Ormeaux', (43, 4252)),\n",
       " ('Saint-Léonard', (55, 4923)),\n",
       " (\"Baie-d'Urfé\", (7, 2684)),\n",
       " ('Sainte-Anne-de-Bellevue', (4, 292)),\n",
       " ('Beaconsfield', (15, 887))]"
      ]
     },
     "execution_count": 17,
     "metadata": {},
     "output_type": "execute_result"
    }
   ],
   "source": [
    "count_price_lst.take(20)"
   ]
  },
  {
   "cell_type": "code",
   "execution_count": 18,
   "metadata": {},
   "outputs": [
    {
     "data": {
      "text/plain": [
       "[('Côte-des-Neiges-Notre-Dame-de-Grâce', 88.69470404984423),\n",
       " ('Rosemont-La Petite-Patrie', 88.61091279959204),\n",
       " ('Ville-Marie', 134.65514592933948),\n",
       " ('Lachine', 94.5945945945946),\n",
       " ('Dorval', 125.95238095238095),\n",
       " ('Verdun', 80.32346723044398),\n",
       " (\"L'Île-Bizard-Sainte-Geneviève\", 169.15),\n",
       " ('Le Sud-Ouest', 108.33984028393967),\n",
       " ('Mercier-Hochelaga-Maisonneuve', 75.96972972972974),\n",
       " ('Outremont', 108.06642066420665),\n",
       " ('Ahuntsic-Cartierville', 78.86451612903225),\n",
       " ('Westmount', 128.22641509433961),\n",
       " ('Hampstead', 205.04347826086956),\n",
       " ('Pierrefonds-Roxboro', 107.0),\n",
       " ('Montréal-Nord', 62.45945945945946),\n",
       " ('Dollard-des-Ormeaux', 98.88372093023256),\n",
       " ('Saint-Léonard', 89.50909090909092),\n",
       " (\"Baie-d'Urfé\", 383.42857142857144),\n",
       " ('Sainte-Anne-de-Bellevue', 73.0),\n",
       " ('Beaconsfield', 59.13333333333333)]"
      ]
     },
     "execution_count": 18,
     "metadata": {},
     "output_type": "execute_result"
    }
   ],
   "source": [
    "#calculate average price per neighbourhood\n",
    "avg_price_per_neighbourhood = count_price_lst.map(lambda x: (x[0], (x[1][1]/x[1][0])))\n",
    "avg_price_per_neighbourhood.take(20)"
   ]
  }
 ],
 "metadata": {
  "kernelspec": {
   "display_name": "Python 3",
   "language": "python",
   "name": "python3"
  },
  "language_info": {
   "codemirror_mode": {
    "name": "ipython",
    "version": 3
   },
   "file_extension": ".py",
   "mimetype": "text/x-python",
   "name": "python",
   "nbconvert_exporter": "python",
   "pygments_lexer": "ipython3",
   "version": "3.6.7"
  }
 },
 "nbformat": 4,
 "nbformat_minor": 2
}
